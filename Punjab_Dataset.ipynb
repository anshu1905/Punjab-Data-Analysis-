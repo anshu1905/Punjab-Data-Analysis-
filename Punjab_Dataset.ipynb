{
 "cells": [
  {
   "cell_type": "code",
   "execution_count": 1,
   "metadata": {},
   "outputs": [],
   "source": [
    "#Importing the libraries required for analysis \n",
    "import numpy as np\n",
    "import pandas as pd\n",
    "import matplotlib.pyplot as plt\n",
    "import seaborn as sns"
   ]
  },
  {
   "cell_type": "code",
   "execution_count": 2,
   "metadata": {},
   "outputs": [
    {
     "name": "stdin",
     "output_type": "stream",
     "text": [
      "Enter a number 0\n",
      "Enter a number 0\n"
     ]
    }
   ],
   "source": [
    "#Loading the Punjab Dataset\n",
    "data = pd.read_csv('Dataset.csv')"
   ]
  },
  {
   "cell_type": "code",
   "execution_count": 3,
   "metadata": {},
   "outputs": [
    {
     "data": {
      "text/html": [
       "<div>\n",
       "<style scoped>\n",
       "    .dataframe tbody tr th:only-of-type {\n",
       "        vertical-align: middle;\n",
       "    }\n",
       "\n",
       "    .dataframe tbody tr th {\n",
       "        vertical-align: top;\n",
       "    }\n",
       "\n",
       "    .dataframe thead th {\n",
       "        text-align: right;\n",
       "    }\n",
       "</style>\n",
       "<table border=\"1\" class=\"dataframe\">\n",
       "  <thead>\n",
       "    <tr style=\"text-align: right;\">\n",
       "      <th></th>\n",
       "      <th>are you living in Punjab?</th>\n",
       "      <th>Pin code or Constituency</th>\n",
       "      <th>locality</th>\n",
       "      <th>priority_1</th>\n",
       "      <th>specify other priority</th>\n",
       "      <th>why_priority</th>\n",
       "      <th>priority2</th>\n",
       "      <th>specify other priority2</th>\n",
       "      <th>why_priority2</th>\n",
       "    </tr>\n",
       "  </thead>\n",
       "  <tbody>\n",
       "    <tr>\n",
       "      <th>0</th>\n",
       "      <td>Yes</td>\n",
       "      <td>121000</td>\n",
       "      <td>NaN</td>\n",
       "      <td>Livelihood / Livelihood/Employment</td>\n",
       "      <td>NaN</td>\n",
       "      <td>NaN</td>\n",
       "      <td>Livelihood / Livelihood/Employment</td>\n",
       "      <td>NaN</td>\n",
       "      <td>Livelihood / Livelihood/Employment</td>\n",
       "    </tr>\n",
       "    <tr>\n",
       "      <th>1</th>\n",
       "      <td>हाँ</td>\n",
       "      <td>120022</td>\n",
       "      <td>NaN</td>\n",
       "      <td>Other</td>\n",
       "      <td>Test</td>\n",
       "      <td>NaN</td>\n",
       "      <td>Civic services (Garbage, bad roads etc)</td>\n",
       "      <td>NaN</td>\n",
       "      <td>Civic services (Garbage, bad roads etc)</td>\n",
       "    </tr>\n",
       "    <tr>\n",
       "      <th>2</th>\n",
       "      <td>Yes</td>\n",
       "      <td>Idk</td>\n",
       "      <td>Patiala</td>\n",
       "      <td>Civic services (Garbage, bad roads etc)</td>\n",
       "      <td>NaN</td>\n",
       "      <td>BecauseCivic services (Garbage, bad roads etc)...</td>\n",
       "      <td>Education</td>\n",
       "      <td>NaN</td>\n",
       "      <td>Education</td>\n",
       "    </tr>\n",
       "    <tr>\n",
       "      <th>3</th>\n",
       "      <td>Yes</td>\n",
       "      <td>140001</td>\n",
       "      <td>NaN</td>\n",
       "      <td>Other</td>\n",
       "      <td>Old pension scheme for employees</td>\n",
       "      <td>NaN</td>\n",
       "      <td>Livelihood / Livelihood/Employment</td>\n",
       "      <td>NaN</td>\n",
       "      <td>Livelihood / Livelihood/Employment</td>\n",
       "    </tr>\n",
       "    <tr>\n",
       "      <th>4</th>\n",
       "      <td>ਹਾਂ</td>\n",
       "      <td>148105</td>\n",
       "      <td>NaN</td>\n",
       "      <td>Drug addiction</td>\n",
       "      <td>NaN</td>\n",
       "      <td>Na</td>\n",
       "      <td>Drug addiction</td>\n",
       "      <td>NaN</td>\n",
       "      <td>Drug addiction</td>\n",
       "    </tr>\n",
       "  </tbody>\n",
       "</table>\n",
       "</div>"
      ],
      "text/plain": [
       "  are you living in Punjab? Pin code or Constituency locality  \\\n",
       "0                       Yes                   121000      NaN   \n",
       "1                       हाँ                   120022      NaN   \n",
       "2                       Yes                      Idk  Patiala   \n",
       "3                       Yes                   140001      NaN   \n",
       "4                       ਹਾਂ                   148105      NaN   \n",
       "\n",
       "                                priority_1            specify other priority  \\\n",
       "0       Livelihood / Livelihood/Employment                               NaN   \n",
       "1                                    Other                              Test   \n",
       "2  Civic services (Garbage, bad roads etc)                               NaN   \n",
       "3                                    Other  Old pension scheme for employees   \n",
       "4                           Drug addiction                               NaN   \n",
       "\n",
       "                                        why_priority  \\\n",
       "0                                                NaN   \n",
       "1                                                NaN   \n",
       "2  BecauseCivic services (Garbage, bad roads etc)...   \n",
       "3                                                NaN   \n",
       "4                                                 Na   \n",
       "\n",
       "                                 priority2 specify other priority2  \\\n",
       "0       Livelihood / Livelihood/Employment                     NaN   \n",
       "1  Civic services (Garbage, bad roads etc)                     NaN   \n",
       "2                                Education                     NaN   \n",
       "3       Livelihood / Livelihood/Employment                     NaN   \n",
       "4                           Drug addiction                     NaN   \n",
       "\n",
       "                             why_priority2  \n",
       "0       Livelihood / Livelihood/Employment  \n",
       "1  Civic services (Garbage, bad roads etc)  \n",
       "2                                Education  \n",
       "3       Livelihood / Livelihood/Employment  \n",
       "4                           Drug addiction  "
      ]
     },
     "execution_count": 3,
     "metadata": {},
     "output_type": "execute_result"
    }
   ],
   "source": [
    "data.head()"
   ]
  },
  {
   "cell_type": "code",
   "execution_count": 4,
   "metadata": {},
   "outputs": [
    {
     "data": {
      "text/html": [
       "<div>\n",
       "<style scoped>\n",
       "    .dataframe tbody tr th:only-of-type {\n",
       "        vertical-align: middle;\n",
       "    }\n",
       "\n",
       "    .dataframe tbody tr th {\n",
       "        vertical-align: top;\n",
       "    }\n",
       "\n",
       "    .dataframe thead th {\n",
       "        text-align: right;\n",
       "    }\n",
       "</style>\n",
       "<table border=\"1\" class=\"dataframe\">\n",
       "  <thead>\n",
       "    <tr style=\"text-align: right;\">\n",
       "      <th></th>\n",
       "      <th>are you living in Punjab?</th>\n",
       "      <th>Pin code or Constituency</th>\n",
       "      <th>locality</th>\n",
       "      <th>priority_1</th>\n",
       "      <th>specify other priority</th>\n",
       "      <th>why_priority</th>\n",
       "      <th>priority2</th>\n",
       "      <th>specify other priority2</th>\n",
       "      <th>why_priority2</th>\n",
       "    </tr>\n",
       "  </thead>\n",
       "  <tbody>\n",
       "    <tr>\n",
       "      <th>354</th>\n",
       "      <td>No</td>\n",
       "      <td>@results.pin_constituency</td>\n",
       "      <td>@results.locality</td>\n",
       "      <td>@results.priority_1</td>\n",
       "      <td>@results.other_priority</td>\n",
       "      <td>@results.why_priority</td>\n",
       "      <td>@results.priority2</td>\n",
       "      <td>@results.other_prio2</td>\n",
       "      <td>@results.priority2</td>\n",
       "    </tr>\n",
       "    <tr>\n",
       "      <th>355</th>\n",
       "      <td>ਹਾਂ</td>\n",
       "      <td>146001</td>\n",
       "      <td>@results.locality</td>\n",
       "      <td>ਨਸ਼ਾਖੋਰੀ</td>\n",
       "      <td>@results.other_priority</td>\n",
       "      <td>Boht lok mar rahe aa drugs krke</td>\n",
       "      <td>ਆਜੀਵਿਕਾ/ਰੁਜ਼ਗਾਰ</td>\n",
       "      <td>@results.other_prio2</td>\n",
       "      <td>ਆਜੀਵਿਕਾ/ਰੁਜ਼ਗਾਰ</td>\n",
       "    </tr>\n",
       "    <tr>\n",
       "      <th>356</th>\n",
       "      <td>ਹਾਂ</td>\n",
       "      <td>Halka urmur</td>\n",
       "      <td>@results.locality</td>\n",
       "      <td>Rap cas</td>\n",
       "      <td>@results.other_priority</td>\n",
       "      <td>Huni Himachal Pradesh vich vi te Delhi vich vi...</td>\n",
       "      <td>Barujgari</td>\n",
       "      <td>@results.other_prio2</td>\n",
       "      <td>Barujgari</td>\n",
       "    </tr>\n",
       "    <tr>\n",
       "      <th>357</th>\n",
       "      <td>ਹਾਂ</td>\n",
       "      <td>146001</td>\n",
       "      <td>@results.locality</td>\n",
       "      <td>ਨਸ਼ਾਖੋਰੀ</td>\n",
       "      <td>@results.other_priority</td>\n",
       "      <td>https://filemanager.gupshup.io/fm/wamedia/RBGl...</td>\n",
       "      <td>ਸਿਵਲ ਸੇਵਾਵਾਂ</td>\n",
       "      <td>@results.other_prio2</td>\n",
       "      <td>ਸਿਵਲ ਸੇਵਾਵਾਂ</td>\n",
       "    </tr>\n",
       "    <tr>\n",
       "      <th>358</th>\n",
       "      <td>ना</td>\n",
       "      <td>@results.pin_constituency</td>\n",
       "      <td>@results.locality</td>\n",
       "      <td>@results.priority_1</td>\n",
       "      <td>@results.other_priority</td>\n",
       "      <td>@results.why_priority</td>\n",
       "      <td>@results.priority2</td>\n",
       "      <td>@results.other_prio2</td>\n",
       "      <td>@results.priority2</td>\n",
       "    </tr>\n",
       "  </tbody>\n",
       "</table>\n",
       "</div>"
      ],
      "text/plain": [
       "    are you living in Punjab?   Pin code or Constituency           locality  \\\n",
       "354                        No  @results.pin_constituency  @results.locality   \n",
       "355                       ਹਾਂ                     146001  @results.locality   \n",
       "356                       ਹਾਂ                Halka urmur  @results.locality   \n",
       "357                       ਹਾਂ                     146001  @results.locality   \n",
       "358                        ना  @results.pin_constituency  @results.locality   \n",
       "\n",
       "              priority_1   specify other priority  \\\n",
       "354  @results.priority_1  @results.other_priority   \n",
       "355             ਨਸ਼ਾਖੋਰੀ  @results.other_priority   \n",
       "356              Rap cas  @results.other_priority   \n",
       "357             ਨਸ਼ਾਖੋਰੀ  @results.other_priority   \n",
       "358  @results.priority_1  @results.other_priority   \n",
       "\n",
       "                                          why_priority           priority2  \\\n",
       "354                              @results.why_priority  @results.priority2   \n",
       "355                    Boht lok mar rahe aa drugs krke     ਆਜੀਵਿਕਾ/ਰੁਜ਼ਗਾਰ   \n",
       "356  Huni Himachal Pradesh vich vi te Delhi vich vi...           Barujgari   \n",
       "357  https://filemanager.gupshup.io/fm/wamedia/RBGl...        ਸਿਵਲ ਸੇਵਾਵਾਂ   \n",
       "358                              @results.why_priority  @results.priority2   \n",
       "\n",
       "    specify other priority2       why_priority2  \n",
       "354    @results.other_prio2  @results.priority2  \n",
       "355    @results.other_prio2     ਆਜੀਵਿਕਾ/ਰੁਜ਼ਗਾਰ  \n",
       "356    @results.other_prio2           Barujgari  \n",
       "357    @results.other_prio2        ਸਿਵਲ ਸੇਵਾਵਾਂ  \n",
       "358    @results.other_prio2  @results.priority2  "
      ]
     },
     "execution_count": 4,
     "metadata": {},
     "output_type": "execute_result"
    }
   ],
   "source": [
    "data.tail()"
   ]
  },
  {
   "cell_type": "code",
   "execution_count": 5,
   "metadata": {},
   "outputs": [
    {
     "data": {
      "text/plain": [
       "(359, 9)"
      ]
     },
     "execution_count": 5,
     "metadata": {},
     "output_type": "execute_result"
    }
   ],
   "source": [
    "data.shape"
   ]
  },
  {
   "cell_type": "code",
   "execution_count": 7,
   "metadata": {},
   "outputs": [
    {
     "data": {
      "text/html": [
       "<div>\n",
       "<style scoped>\n",
       "    .dataframe tbody tr th:only-of-type {\n",
       "        vertical-align: middle;\n",
       "    }\n",
       "\n",
       "    .dataframe tbody tr th {\n",
       "        vertical-align: top;\n",
       "    }\n",
       "\n",
       "    .dataframe thead th {\n",
       "        text-align: right;\n",
       "    }\n",
       "</style>\n",
       "<table border=\"1\" class=\"dataframe\">\n",
       "  <thead>\n",
       "    <tr style=\"text-align: right;\">\n",
       "      <th></th>\n",
       "      <th>are you living in Punjab?</th>\n",
       "      <th>Pin code or Constituency</th>\n",
       "      <th>locality</th>\n",
       "      <th>priority_1</th>\n",
       "      <th>specify other priority</th>\n",
       "      <th>why_priority</th>\n",
       "      <th>priority2</th>\n",
       "      <th>specify other priority2</th>\n",
       "      <th>why_priority2</th>\n",
       "    </tr>\n",
       "  </thead>\n",
       "  <tbody>\n",
       "    <tr>\n",
       "      <th>count</th>\n",
       "      <td>359</td>\n",
       "      <td>348</td>\n",
       "      <td>271</td>\n",
       "      <td>347</td>\n",
       "      <td>261</td>\n",
       "      <td>324</td>\n",
       "      <td>347</td>\n",
       "      <td>263</td>\n",
       "      <td>347</td>\n",
       "    </tr>\n",
       "    <tr>\n",
       "      <th>unique</th>\n",
       "      <td>10</td>\n",
       "      <td>181</td>\n",
       "      <td>27</td>\n",
       "      <td>38</td>\n",
       "      <td>16</td>\n",
       "      <td>186</td>\n",
       "      <td>52</td>\n",
       "      <td>19</td>\n",
       "      <td>52</td>\n",
       "    </tr>\n",
       "    <tr>\n",
       "      <th>top</th>\n",
       "      <td>ਹਾਂ</td>\n",
       "      <td>@results.pin_constituency</td>\n",
       "      <td>@results.locality</td>\n",
       "      <td>Livelihood/Employment</td>\n",
       "      <td>@results.other_priority</td>\n",
       "      <td>Na</td>\n",
       "      <td>Education</td>\n",
       "      <td>@results.other_prio2</td>\n",
       "      <td>Education</td>\n",
       "    </tr>\n",
       "    <tr>\n",
       "      <th>freq</th>\n",
       "      <td>182</td>\n",
       "      <td>28</td>\n",
       "      <td>240</td>\n",
       "      <td>92</td>\n",
       "      <td>245</td>\n",
       "      <td>90</td>\n",
       "      <td>73</td>\n",
       "      <td>244</td>\n",
       "      <td>73</td>\n",
       "    </tr>\n",
       "  </tbody>\n",
       "</table>\n",
       "</div>"
      ],
      "text/plain": [
       "       are you living in Punjab?   Pin code or Constituency  \\\n",
       "count                        359                        348   \n",
       "unique                        10                        181   \n",
       "top                          ਹਾਂ  @results.pin_constituency   \n",
       "freq                         182                         28   \n",
       "\n",
       "                 locality             priority_1   specify other priority  \\\n",
       "count                 271                    347                      261   \n",
       "unique                 27                     38                       16   \n",
       "top     @results.locality  Livelihood/Employment  @results.other_priority   \n",
       "freq                  240                     92                      245   \n",
       "\n",
       "       why_priority  priority2 specify other priority2 why_priority2  \n",
       "count           324        347                     263           347  \n",
       "unique          186         52                      19            52  \n",
       "top              Na  Education    @results.other_prio2     Education  \n",
       "freq             90         73                     244            73  "
      ]
     },
     "execution_count": 7,
     "metadata": {},
     "output_type": "execute_result"
    }
   ],
   "source": [
    "data.describe()"
   ]
  },
  {
   "cell_type": "code",
   "execution_count": 10,
   "metadata": {},
   "outputs": [],
   "source": [
    "df = pd.DataFrame(data=data,columns=['priority_1','priority2'])"
   ]
  },
  {
   "cell_type": "code",
   "execution_count": 11,
   "metadata": {},
   "outputs": [
    {
     "data": {
      "text/html": [
       "<div>\n",
       "<style scoped>\n",
       "    .dataframe tbody tr th:only-of-type {\n",
       "        vertical-align: middle;\n",
       "    }\n",
       "\n",
       "    .dataframe tbody tr th {\n",
       "        vertical-align: top;\n",
       "    }\n",
       "\n",
       "    .dataframe thead th {\n",
       "        text-align: right;\n",
       "    }\n",
       "</style>\n",
       "<table border=\"1\" class=\"dataframe\">\n",
       "  <thead>\n",
       "    <tr style=\"text-align: right;\">\n",
       "      <th></th>\n",
       "      <th>priority_1</th>\n",
       "      <th>priority2</th>\n",
       "    </tr>\n",
       "  </thead>\n",
       "  <tbody>\n",
       "    <tr>\n",
       "      <th>0</th>\n",
       "      <td>Livelihood / Livelihood/Employment</td>\n",
       "      <td>Livelihood / Livelihood/Employment</td>\n",
       "    </tr>\n",
       "    <tr>\n",
       "      <th>1</th>\n",
       "      <td>Other</td>\n",
       "      <td>Civic services (Garbage, bad roads etc)</td>\n",
       "    </tr>\n",
       "    <tr>\n",
       "      <th>2</th>\n",
       "      <td>Civic services (Garbage, bad roads etc)</td>\n",
       "      <td>Education</td>\n",
       "    </tr>\n",
       "    <tr>\n",
       "      <th>3</th>\n",
       "      <td>Other</td>\n",
       "      <td>Livelihood / Livelihood/Employment</td>\n",
       "    </tr>\n",
       "    <tr>\n",
       "      <th>4</th>\n",
       "      <td>Drug addiction</td>\n",
       "      <td>Drug addiction</td>\n",
       "    </tr>\n",
       "  </tbody>\n",
       "</table>\n",
       "</div>"
      ],
      "text/plain": [
       "                                priority_1  \\\n",
       "0       Livelihood / Livelihood/Employment   \n",
       "1                                    Other   \n",
       "2  Civic services (Garbage, bad roads etc)   \n",
       "3                                    Other   \n",
       "4                           Drug addiction   \n",
       "\n",
       "                                 priority2  \n",
       "0       Livelihood / Livelihood/Employment  \n",
       "1  Civic services (Garbage, bad roads etc)  \n",
       "2                                Education  \n",
       "3       Livelihood / Livelihood/Employment  \n",
       "4                           Drug addiction  "
      ]
     },
     "execution_count": 11,
     "metadata": {},
     "output_type": "execute_result"
    }
   ],
   "source": [
    "df.head()"
   ]
  },
  {
   "cell_type": "code",
   "execution_count": 12,
   "metadata": {},
   "outputs": [
    {
     "data": {
      "text/html": [
       "<div>\n",
       "<style scoped>\n",
       "    .dataframe tbody tr th:only-of-type {\n",
       "        vertical-align: middle;\n",
       "    }\n",
       "\n",
       "    .dataframe tbody tr th {\n",
       "        vertical-align: top;\n",
       "    }\n",
       "\n",
       "    .dataframe thead th {\n",
       "        text-align: right;\n",
       "    }\n",
       "</style>\n",
       "<table border=\"1\" class=\"dataframe\">\n",
       "  <thead>\n",
       "    <tr style=\"text-align: right;\">\n",
       "      <th></th>\n",
       "      <th>priority_1</th>\n",
       "      <th>priority2</th>\n",
       "    </tr>\n",
       "  </thead>\n",
       "  <tbody>\n",
       "    <tr>\n",
       "      <th>354</th>\n",
       "      <td>@results.priority_1</td>\n",
       "      <td>@results.priority2</td>\n",
       "    </tr>\n",
       "    <tr>\n",
       "      <th>355</th>\n",
       "      <td>ਨਸ਼ਾਖੋਰੀ</td>\n",
       "      <td>ਆਜੀਵਿਕਾ/ਰੁਜ਼ਗਾਰ</td>\n",
       "    </tr>\n",
       "    <tr>\n",
       "      <th>356</th>\n",
       "      <td>Rap cas</td>\n",
       "      <td>Barujgari</td>\n",
       "    </tr>\n",
       "    <tr>\n",
       "      <th>357</th>\n",
       "      <td>ਨਸ਼ਾਖੋਰੀ</td>\n",
       "      <td>ਸਿਵਲ ਸੇਵਾਵਾਂ</td>\n",
       "    </tr>\n",
       "    <tr>\n",
       "      <th>358</th>\n",
       "      <td>@results.priority_1</td>\n",
       "      <td>@results.priority2</td>\n",
       "    </tr>\n",
       "  </tbody>\n",
       "</table>\n",
       "</div>"
      ],
      "text/plain": [
       "              priority_1           priority2\n",
       "354  @results.priority_1  @results.priority2\n",
       "355             ਨਸ਼ਾਖੋਰੀ     ਆਜੀਵਿਕਾ/ਰੁਜ਼ਗਾਰ\n",
       "356              Rap cas           Barujgari\n",
       "357             ਨਸ਼ਾਖੋਰੀ        ਸਿਵਲ ਸੇਵਾਵਾਂ\n",
       "358  @results.priority_1  @results.priority2"
      ]
     },
     "execution_count": 12,
     "metadata": {},
     "output_type": "execute_result"
    }
   ],
   "source": [
    "df.tail()"
   ]
  },
  {
   "cell_type": "code",
   "execution_count": 13,
   "metadata": {},
   "outputs": [
    {
     "data": {
      "text/plain": [
       "Livelihood/Employment                                                   92\n",
       "Education                                                               75\n",
       "Livelihood / Livelihood/Employment                                      41\n",
       "Drug addiction                                                          38\n",
       "@results.priority_1                                                     28\n",
       "Civic services (Garbage, bad roads etc)                                 20\n",
       "Other                                                                   16\n",
       "Agriculture reforms                                                      4\n",
       "2                                                                        2\n",
       "ਨਸ਼ਾਖੋਰੀ                                                                 2\n",
       "Education system                                                         2\n",
       "Berojgaari                                                               1\n",
       "Lectures in Government colleges should be taken properly and regular     1\n",
       "Study free honi chahdi hai                                               1\n",
       "best roads                                                               1\n",
       "Yes                                                                      1\n",
       "Livelihood/Employment milni chahiye                                      1\n",
       "Nokari                                                                   1\n",
       ".                                                                        1\n",
       "Nice                                                                     1\n",
       "what                                                                     1\n",
       "143412                                                                   1\n",
       "145023                                                                   1\n",
       "Nho                                                                      1\n",
       "Help                                                                     1\n",
       "Sab nu kam mila                                                          1\n",
       "145025                                                                   1\n",
       "ਆਜੀਵਿਕਾ/ਰੁਜ਼ਗਾਰ                                                          1\n",
       "Beruggari                                                                1\n",
       "Rap cas                                                                  1\n",
       "School bare                                                              1\n",
       "Road                                                                     1\n",
       "Mypunjab                                                                 1\n",
       "ना                                                                       1\n",
       "Job                                                                      1\n",
       "14040t                                                                   1\n",
       "MyPunjab                                                                 1\n",
       "Ok                                                                       1\n",
       "Name: priority_1, dtype: int64"
      ]
     },
     "execution_count": 13,
     "metadata": {},
     "output_type": "execute_result"
    }
   ],
   "source": [
    "df['priority_1'].value_counts()"
   ]
  },
  {
   "cell_type": "code",
   "execution_count": 14,
   "metadata": {},
   "outputs": [
    {
     "data": {
      "text/plain": [
       "Education                                                                                                                                                                            73\n",
       "Livelihood/Employment                                                                                                                                                                60\n",
       "Drug addiction                                                                                                                                                                       47\n",
       "Civic services (Garbage, bad roads etc)                                                                                                                                              35\n",
       "@results.priority2                                                                                                                                                                   28\n",
       "Livelihood / Livelihood/Employment                                                                                                                                                   27\n",
       "Other                                                                                                                                                                                19\n",
       "Agriculture reforms                                                                                                                                                                  11\n",
       "Na                                                                                                                                                                                    2\n",
       "MyPunjab                                                                                                                                                                              2\n",
       "hi                                                                                                                                                                                    2\n",
       "Yes                                                                                                                                                                                   1\n",
       "Hi                                                                                                                                                                                    1\n",
       "https://filemanager.gupshup.io/fm/wamedia/RBGlificAPI/da23732e-704d-460c-b921-c805508974b1                                                                                            1\n",
       "Tusi Ho kon                                                                                                                                                                           1\n",
       "No                                                                                                                                                                                    1\n",
       "Shivraj main Munda Hai Ki Galiyon Mein Pani Sasti hai aur vahan se aana jana Jane Se log Karte rahte hain isiliye mudde ko aap sabse main Suraj Ki Pani nikalne ka nikal karvayen     1\n",
       "ਰੋਜਗਾਰ ਦੀ                                                                                                                                                                             1\n",
       "Medical facility                                                                                                                                                                      1\n",
       "SB logg nsha kr rha hai                                                                                                                                                               1\n",
       "https://filemanager.gupshup.io/fm/wamedia/RBGlificAPI/9f5f1ff6-1632-4e3e-9148-14737278a6b5                                                                                            1\n",
       "Barujgari                                                                                                                                                                             1\n",
       "Not show sp                                                                                                                                                                           1\n",
       "ਰੁਜ਼ਗਾਰ ਦਾ                                                                                                                                                                            1\n",
       "https://filemanager.gupshup.io/fm/wamedia/RBGlificAPI/e52745c2-66b3-40ef-a9bc-1eafcad13b5f                                                                                            1\n",
       "ਸਰਕਾਰੀ ਰੁਜ਼ਗਾਰ                                                                                                                                                                        1\n",
       "Vich pejo                                                                                                                                                                             1\n",
       "Sade Punjab nu bachya ja ske                                                                                                                                                          1\n",
       "By                                                                                                                                                                                    1\n",
       "Thanks                                                                                                                                                                                1\n",
       "Optipns                                                                                                                                                                               1\n",
       "https://filemanager.gupshup.io/fm/wamedia/RBGlificAPI/9709b69d-b0ec-40e3-983c-efa6744456a7                                                                                            1\n",
       "Mypunjab                                                                                                                                                                              1\n",
       "Lun                                                                                                                                                                                   1\n",
       "Give jobs to the unemployed people                                                                                                                                                    1\n",
       "🤦‍♂️🤦‍♂️🤦‍♂️🤦‍♂️                                                                                                                                                                      1\n",
       "ਸਿੱਖਿਆ                                                                                                                                                                                1\n",
       "https://filemanager.gupshup.io/fm/wamedia/RBGlificAPI/c30ae45d-3c6f-472c-ac9d-7130dfdf2889                                                                                            1\n",
       "https://filemanager.gupshup.io/fm/wamedia/RBGlificAPI/a350ae56-6c9f-4d6a-8714-98c7b64c3c87                                                                                            1\n",
       "Road s                                                                                                                                                                                1\n",
       "Public parks                                                                                                                                                                          1\n",
       "Nasha                                                                                                                                                                                 1\n",
       "I think higher education must be available at low cost                                                                                                                                1\n",
       "https://filemanager.gupshup.io/fm/wamedia/RBGlificAPI/592a0b74-1224-4a47-a7d8-bf12c4741587                                                                                            1\n",
       "?                                                                                                                                                                                     1\n",
       "ਬੇਰੋਜਗਾਰੀ ਖ਼ਤਮ                                                                                                                                                                         1\n",
       "Education system free kro... Feese's less kro                                                                                                                                         1\n",
       "Help                                                                                                                                                                                  1\n",
       "Voice note                                                                                                                                                                            1\n",
       "ਸਿਵਲ ਸੇਵਾਵਾਂ                                                                                                                                                                          1\n",
       "Berujgari khatam honi chahidi aa                                                                                                                                                      1\n",
       "ਆਜੀਵਿਕਾ/ਰੁਜ਼ਗਾਰ                                                                                                                                                                       1\n",
       "Name: priority2, dtype: int64"
      ]
     },
     "execution_count": 14,
     "metadata": {},
     "output_type": "execute_result"
    }
   ],
   "source": [
    "df['priority2'].value_counts()"
   ]
  },
  {
   "cell_type": "code",
   "execution_count": 23,
   "metadata": {},
   "outputs": [
    {
     "data": {
      "image/png": "[encoded data removed]",
      "text/plain": [
       "<Figure size 432x288 with 1 Axes>"
      ]
     },
     "metadata": {
      "needs_background": "light"
     },
     "output_type": "display_data"
    }
   ],
   "source": [
    "\n",
    "\n",
    "df['priority_1'].value_counts().plot.hist(rwidth=0.7)\n",
    "plt.xlabel(\"Priority\")\n",
    "plt.ylabel(\"Frequency\")\n",
    "plt.title(\"First Priority\")\n",
    "plt.show()"
   ]
  },
  {
   "cell_type": "code",
   "execution_count": 24,
   "metadata": {},
   "outputs": [
    {
     "data": {
      "image/png": "[encoded data removed]",
      "text/plain": [
       "<Figure size 432x288 with 1 Axes>"
      ]
     },
     "metadata": {
      "needs_background": "light"
     },
     "output_type": "display_data"
    }
   ],
   "source": [
    "#Histogram to get frequency of each selected option/priority\n",
    "\n",
    "df['priority2'].value_counts().plot.hist(rwidth=0.7)\n",
    "plt.xlabel(\"Priority\")\n",
    "plt.ylabel(\"Frequency\")\n",
    "plt.title(\"Second Priority\")\n",
    "plt.show()"
   ]
  },
  {
   "cell_type": "code",
   "execution_count": 33,
   "metadata": {},
   "outputs": [
    {
     "name": "stdout",
     "output_type": "stream",
     "text": [
      "------Max Priority1------\n",
      "Livelihood/Employment 92\n",
      "\n",
      "\n",
      "------Max Priority2------\n",
      "Education 73\n"
     ]
    }
   ],
   "source": [
    "print(\"------Max Priority1------\")\n",
    "print(df['priority_1'].value_counts().idxmax(),end=\" \")\n",
    "max_priority1 = max(df['priority_1'].value_counts())\n",
    "print(max_priority1)\n",
    "\n",
    "print(\"\\n\")\n",
    "\n",
    "print(\"------Max Priority2------\")\n",
    "print(df['priority2'].value_counts().idxmax(),end=\" \")\n",
    "max_priority2 = max(df['priority2'].value_counts())\n",
    "print(max_priority2)"
   ]
  },
  {
   "cell_type": "code",
   "execution_count": null,
   "metadata": {},
   "outputs": [],
   "source": []
  }
 ],
 "metadata": {
  "kernelspec": {
   "display_name": "Python 3",
   "language": "python",
   "name": "python3"
  },
  "language_info": {
   "codemirror_mode": {
    "name": "ipython",
    "version": 3
   },
   "file_extension": ".py",
   "mimetype": "text/x-python",
   "name": "python",
   "nbconvert_exporter": "python",
   "pygments_lexer": "ipython3",
   "version": "3.7.0"
  }
 },
 "nbformat": 4,
 "nbformat_minor": 4
}
